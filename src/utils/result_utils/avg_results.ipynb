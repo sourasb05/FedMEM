{
 "cells": [
  {
   "cell_type": "code",
   "execution_count": 1,
   "metadata": {},
   "outputs": [],
   "source": [
    "import h5py\n",
    "import numpy as np\n",
    "import pandas as pd \n",
    "import os\n",
    "import numpy as np\n",
    "import re\n",
    "import csv\n",
    "import matplotlib.pyplot as plt\n",
    "from mpl_toolkits.axes_grid1.inset_locator import inset_axes\n",
    "import re"
   ]
  },
  {
   "cell_type": "code",
   "execution_count": 2,
   "metadata": {},
   "outputs": [],
   "source": [
    "def read_file(file):\n",
    "    hf = h5py.File(file, 'r')\n",
    "    attributes = []\n",
    "    for key in hf.keys():\n",
    "        attributes.append(key)\n",
    "    \n",
    "    return attributes, hf"
   ]
  },
  {
   "cell_type": "code",
   "execution_count": 3,
   "metadata": {},
   "outputs": [],
   "source": [
    "def get_data(hf,attributes):\n",
    "    data = []\n",
    "    pm = []\n",
    "    acc_pm = []\n",
    "    loss_pm = []\n",
    "    loss_gm = []\n",
    "    for i in range(len(attributes)):\n",
    "        ai = hf.get(attributes[i])\n",
    "        ai = np.array(ai)\n",
    "        data.append(ai)\n",
    "    \n",
    "    return data\n"
   ]
  },
  {
   "cell_type": "code",
   "execution_count": 4,
   "metadata": {},
   "outputs": [],
   "source": [
    "def avg_result(path):\n",
    "    dir_list = os.listdir(path)\n",
    "    mean_accuracy = np.array([])\n",
    "    mean_std = np.array([])\n",
    "    mean_f1 = np.array([])\n",
    "    for file_name in dir_list:\n",
    "        if file_name.endswith(\".h5\"):\n",
    "            print(file_name)\n",
    "\n",
    "            attributes, hf = read_file(path+file_name)\n",
    "            data = get_data(hf,attributes)\n",
    "            for key in hf.keys():\n",
    "                attributes.append(key)\n",
    "            print(attributes)\n",
    "            acc = np.array(hf.get('maximum_per_test_accuracy'))\n",
    "            dev = np.array(hf.get('std_dev'))\n",
    "\n",
    "            f1_s = np.array(hf.get('per_f1score'))\n",
    "\n",
    "            mean_f1 = np.append(mean_f1, f1_s)\n",
    "            mean_accuracy = np.append(mean_accuracy, acc)\n",
    "            mean_std = np.append(mean_std, dev)\n",
    "    mean_acc = np.mean(mean_accuracy)*100\n",
    "    std_dev = np.mean(mean_std)\n",
    "    print(f\"f1 : {np.max(mean_f1)*100}\")\n",
    "\n",
    "    mean_acc_r = format(mean_acc, '.2f')\n",
    "    std_dev_r = format(std_dev, '.2f')\n",
    "    # mean_fs_r = format(mean_f1, '.2f')\n",
    "    print(mean_acc_r)\n",
    "    print(std_dev_r)\n",
    "    # print(mean_fs_r)\n",
    "\n"
   ]
  },
  {
   "cell_type": "code",
   "execution_count": 18,
   "metadata": {},
   "outputs": [],
   "source": [
    "def avg_hsgd_result(path):\n",
    "    dir_list = os.listdir(path)\n",
    "    mean_accuracy = np.array([])\n",
    "    mean_f1 = np.array([])\n",
    "    for file_name in dir_list:\n",
    "        if file_name.endswith(\".h5\"):\n",
    "            print(file_name)\n",
    "\n",
    "            attributes, hf = read_file(path+file_name)\n",
    "            data = get_data(hf,attributes)\n",
    "            for key in hf.keys():\n",
    "                attributes.append(key)\n",
    "            print(attributes)\n",
    "            acc = np.array(hf.get('global_test_accuracy')).max()\n",
    "            f1_s = np.array(hf.get('global_f1score')).max()\n",
    "\n",
    "            mean_f1 = np.append(mean_f1, f1_s)\n",
    "            mean_accuracy = np.append(mean_accuracy, acc)\n",
    "            # mean_std = np.append(mean_std, dev)\n",
    "    print(mean_accuracy)\n",
    "    mean_acc = np.mean(mean_accuracy)*100\n",
    "    std = np.std(mean_accuracy)\n",
    "    mean_f1 = np.mean(mean_f1)*100\n",
    "    #std_dev = np.mean(mean_std)\n",
    "    # print(f\"f1 : {np.max(mean_f1)*100}\")\n",
    "\n",
    "    mean_acc_r = format(mean_acc, '.2f')\n",
    "    mean_fs_r = format(mean_f1, '.4f')\n",
    "    #std_r = format(std, '.2f')\n",
    "    \n",
    "    print(f\"mean accuracy : {mean_acc_r}\")\n",
    "    print(f\"std : {std}\")\n",
    "    print(f\"mean_f1 : {mean_fs_r}\")\n",
    "\n",
    "\n",
    "\n",
    "\n",
    "    \n"
   ]
  },
  {
   "cell_type": "code",
   "execution_count": 19,
   "metadata": {},
   "outputs": [
    {
     "name": "stdout",
     "output_type": "stream",
     "text": [
      "_exp_no_1_local_model_LR_10.h5\n",
      "['Batch size', 'Global rounds', 'Learning rate', 'Local iters', 'global_f1score', 'global_precision', 'global_recall', 'global_test_accuracy', 'global_test_loss', 'global_train_accuracy', 'global_train_loss', 'Batch size', 'Global rounds', 'Learning rate', 'Local iters', 'global_f1score', 'global_precision', 'global_recall', 'global_test_accuracy', 'global_test_loss', 'global_train_accuracy', 'global_train_loss']\n",
      "_exp_no_0_local_model_LR_10.h5\n",
      "['Batch size', 'Global rounds', 'Learning rate', 'Local iters', 'global_f1score', 'global_precision', 'global_recall', 'global_test_accuracy', 'global_test_loss', 'global_train_accuracy', 'global_train_loss', 'Batch size', 'Global rounds', 'Learning rate', 'Local iters', 'global_f1score', 'global_precision', 'global_recall', 'global_test_accuracy', 'global_test_loss', 'global_train_accuracy', 'global_train_loss']\n",
      "_exp_no_4_local_model_LR_10.h5\n",
      "['Batch size', 'Global rounds', 'Learning rate', 'Local iters', 'global_f1score', 'global_precision', 'global_recall', 'global_test_accuracy', 'global_test_loss', 'global_train_accuracy', 'global_train_loss', 'Batch size', 'Global rounds', 'Learning rate', 'Local iters', 'global_f1score', 'global_precision', 'global_recall', 'global_test_accuracy', 'global_test_loss', 'global_train_accuracy', 'global_train_loss']\n",
      "_exp_no_3_local_model_LR_10.h5\n",
      "['Batch size', 'Global rounds', 'Learning rate', 'Local iters', 'global_f1score', 'global_precision', 'global_recall', 'global_test_accuracy', 'global_test_loss', 'global_train_accuracy', 'global_train_loss', 'Batch size', 'Global rounds', 'Learning rate', 'Local iters', 'global_f1score', 'global_precision', 'global_recall', 'global_test_accuracy', 'global_test_loss', 'global_train_accuracy', 'global_train_loss']\n",
      "_exp_no_2_local_model_LR_10.h5\n",
      "['Batch size', 'Global rounds', 'Learning rate', 'Local iters', 'global_f1score', 'global_precision', 'global_recall', 'global_test_accuracy', 'global_test_loss', 'global_train_accuracy', 'global_train_loss', 'Batch size', 'Global rounds', 'Learning rate', 'Local iters', 'global_f1score', 'global_precision', 'global_recall', 'global_test_accuracy', 'global_test_loss', 'global_train_accuracy', 'global_train_loss']\n",
      "[0.30520827 0.30520827 0.29681725 0.29590108 0.29354935]\n",
      "mean accuracy : 29.93\n",
      "std : 0.00491111531540007\n",
      "mean_f1 : 24.7441\n"
     ]
    }
   ],
   "source": [
    "# path = '/proj/sourasb-220503/FedMEM/results/ResNet50TL/Fedmem/data_silo_20/target_10/apriori/8.0/h5/'\n",
    "# dynamic\n",
    "# apriori\n",
    "\n",
    "# path = '/proj/sourasb-220503/FedMEM/results/ResNet50TL/Fedmem/data_silo_100/target_10/apriori/40.0/h5/'\n",
    "# path = '/proj/sourasb-220503/FedMEM/results/fixed_client_16/target_10/apriori_hsgd/'\n",
    "path = '/proj/sourasb-220503/FedMEM/results/ResNet50TL/FedAvg/h5/local_model/10/'\n",
    "# avg_result(path)\n",
    "avg_hsgd_result(path)"
   ]
  },
  {
   "cell_type": "code",
   "execution_count": null,
   "metadata": {},
   "outputs": [],
   "source": []
  }
 ],
 "metadata": {
  "kernelspec": {
   "display_name": "personalized_fl",
   "language": "python",
   "name": "python3"
  },
  "language_info": {
   "codemirror_mode": {
    "name": "ipython",
    "version": 3
   },
   "file_extension": ".py",
   "mimetype": "text/x-python",
   "name": "python",
   "nbconvert_exporter": "python",
   "pygments_lexer": "ipython3",
   "version": "3.11.3"
  }
 },
 "nbformat": 4,
 "nbformat_minor": 2
}
