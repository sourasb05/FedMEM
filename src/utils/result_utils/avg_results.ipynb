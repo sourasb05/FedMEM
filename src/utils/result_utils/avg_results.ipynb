{
 "cells": [
  {
   "cell_type": "code",
   "execution_count": 5,
   "metadata": {},
   "outputs": [],
   "source": [
    "import h5py\n",
    "import numpy as np\n",
    "import pandas as pd \n",
    "import os\n",
    "import numpy as np\n",
    "import re\n",
    "import csv\n",
    "import matplotlib.pyplot as plt\n",
    "from mpl_toolkits.axes_grid1.inset_locator import inset_axes\n",
    "import re"
   ]
  },
  {
   "cell_type": "code",
   "execution_count": 6,
   "metadata": {},
   "outputs": [],
   "source": [
    "def read_file(file):\n",
    "    hf = h5py.File(file, 'r')\n",
    "    attributes = []\n",
    "    for key in hf.keys():\n",
    "        attributes.append(key)\n",
    "    \n",
    "    return attributes, hf"
   ]
  },
  {
   "cell_type": "code",
   "execution_count": 7,
   "metadata": {},
   "outputs": [],
   "source": [
    "def get_data(hf,attributes):\n",
    "    data = []\n",
    "    pm = []\n",
    "    acc_pm = []\n",
    "    loss_pm = []\n",
    "    loss_gm = []\n",
    "    for i in range(len(attributes)):\n",
    "        ai = hf.get(attributes[i])\n",
    "        ai = np.array(ai)\n",
    "        data.append(ai)\n",
    "    \n",
    "    return data\n"
   ]
  },
  {
   "cell_type": "code",
   "execution_count": 162,
   "metadata": {},
   "outputs": [],
   "source": [
    "def avg_result(path):\n",
    "    dir_list = os.listdir(path)\n",
    "    mean_accuracy = np.array([])\n",
    "    mean_std = np.array([])\n",
    "    mean_f1 = np.array([])\n",
    "    for file_name in dir_list:\n",
    "        if file_name.endswith(\".h5\"):\n",
    "            print(file_name)\n",
    "\n",
    "            attributes, hf = read_file(path+file_name)\n",
    "            data = get_data(hf,attributes)\n",
    "            for key in hf.keys():\n",
    "                attributes.append(key)\n",
    "            print(attributes)\n",
    "            acc = np.array(hf.get('maximum_per_test_accuracy'))\n",
    "            dev = np.array(hf.get('std_dev'))\n",
    "\n",
    "            f1_s = np.array(hf.get('per_f1score'))\n",
    "\n",
    "            mean_f1 = np.append(mean_f1, f1_s)\n",
    "            mean_accuracy = np.append(mean_accuracy, acc)\n",
    "            mean_std = np.append(mean_std, dev)\n",
    "    mean_acc = np.mean(mean_accuracy)*100\n",
    "    std_dev = np.mean(mean_std)\n",
    "    print(f\"f1 : {np.max(mean_f1)*100}\")\n",
    "\n",
    "    mean_acc_r = format(mean_acc, '.2f')\n",
    "    std_dev_r = format(std_dev, '.2f')\n",
    "    # mean_fs_r = format(mean_f1, '.2f')\n",
    "    print(mean_acc_r)\n",
    "    print(std_dev_r)\n",
    "    # print(mean_fs_r)\n",
    "\n"
   ]
  },
  {
   "cell_type": "code",
   "execution_count": 166,
   "metadata": {},
   "outputs": [
    {
     "name": "stdout",
     "output_type": "stream",
     "text": [
      "_exp_no_0_GR_50_BS_124_data_silo_100_num_user_40.0.h5\n",
      "['Batch size', 'Global rounds', 'Lambda_1', 'Lambda_2', 'Learning rate', 'Local iters', 'client_16_accuracy_array', 'client_16_f1_array', 'client_16_val_loss_array', 'client_17_accuracy_array', 'client_17_f1_array', 'client_17_val_loss_array', 'client_18_accuracy_array', 'client_18_f1_array', 'client_18_val_loss_array', 'client_19_accuracy_array', 'client_19_f1_array', 'client_19_val_loss_array', 'client_22_accuracy_array', 'client_22_f1_array', 'client_22_val_loss_array', 'client_23_accuracy_array', 'client_23_f1_array', 'client_23_val_loss_array', 'client_25_accuracy_array', 'client_25_f1_array', 'client_25_val_loss_array', 'client_26_accuracy_array', 'client_26_f1_array', 'client_26_val_loss_array', 'client_27_accuracy_array', 'client_27_f1_array', 'client_27_val_loss_array', 'client_28_accuracy_array', 'client_28_f1_array', 'client_28_val_loss_array', 'client_29_accuracy_array', 'client_29_f1_array', 'client_29_val_loss_array', 'client_30_accuracy_array', 'client_30_f1_array', 'client_30_val_loss_array', 'client_31_accuracy_array', 'client_31_f1_array', 'client_31_val_loss_array', 'client_32_accuracy_array', 'client_32_f1_array', 'client_32_val_loss_array', 'client_33_accuracy_array', 'client_33_f1_array', 'client_33_val_loss_array', 'client_34_accuracy_array', 'client_34_f1_array', 'client_34_val_loss_array', 'client_35_accuracy_array', 'client_35_f1_array', 'client_35_val_loss_array', 'client_36_accuracy_array', 'client_36_f1_array', 'client_36_val_loss_array', 'client_37_accuracy_array', 'client_37_f1_array', 'client_37_val_loss_array', 'client_38_accuracy_array', 'client_38_f1_array', 'client_38_val_loss_array', 'client_39_accuracy_array', 'client_39_f1_array', 'client_39_val_loss_array', 'client_41_accuracy_array', 'client_41_f1_array', 'client_41_val_loss_array', 'client_42_accuracy_array', 'client_42_f1_array', 'client_42_val_loss_array', 'client_43_accuracy_array', 'client_43_f1_array', 'client_43_val_loss_array', 'client_44_accuracy_array', 'client_44_f1_array', 'client_44_val_loss_array', 'client_45_accuracy_array', 'client_45_f1_array', 'client_45_val_loss_array', 'client_46_accuracy_array', 'client_46_f1_array', 'client_46_val_loss_array', 'client_47_accuracy_array', 'client_47_f1_array', 'client_47_val_loss_array', 'client_48_accuracy_array', 'client_48_f1_array', 'client_48_val_loss_array', 'client_49_accuracy_array', 'client_49_f1_array', 'client_49_val_loss_array', 'client_51_accuracy_array', 'client_51_f1_array', 'client_51_val_loss_array', 'client_52_accuracy_array', 'client_52_f1_array', 'client_52_val_loss_array', 'client_53_accuracy_array', 'client_53_f1_array', 'client_53_val_loss_array', 'client_54_accuracy_array', 'client_54_f1_array', 'client_54_val_loss_array', 'client_55_accuracy_array', 'client_55_f1_array', 'client_55_val_loss_array', 'client_56_accuracy_array', 'client_56_f1_array', 'client_56_val_loss_array', 'client_57_accuracy_array', 'client_57_f1_array', 'client_57_val_loss_array', 'client_60_accuracy_array', 'client_60_f1_array', 'client_60_val_loss_array', 'client_61_accuracy_array', 'client_61_f1_array', 'client_61_val_loss_array', 'client_62_accuracy_array', 'client_62_f1_array', 'client_62_val_loss_array', 'cluster_f1score', 'cluster_precision', 'cluster_recall', 'cluster_test_accuracy', 'cluster_test_loss', 'cluster_train_accuracy', 'cluster_train_loss', 'data silo', 'exp_no', 'global_f1score', 'global_precision', 'global_recall', 'global_test_accuracy', 'global_test_loss', 'global_train_accuracy', 'global_train_loss', 'maximum_per_test_accuracy', 'maximum_per_test_accuracy_list', 'num users', 'per_f1score', 'per_precision', 'per_recall', 'per_test_accuracy', 'per_test_loss', 'per_train_accuracy', 'per_train_loss', 'std_dev', 'Batch size', 'Global rounds', 'Lambda_1', 'Lambda_2', 'Learning rate', 'Local iters', 'client_16_accuracy_array', 'client_16_f1_array', 'client_16_val_loss_array', 'client_17_accuracy_array', 'client_17_f1_array', 'client_17_val_loss_array', 'client_18_accuracy_array', 'client_18_f1_array', 'client_18_val_loss_array', 'client_19_accuracy_array', 'client_19_f1_array', 'client_19_val_loss_array', 'client_22_accuracy_array', 'client_22_f1_array', 'client_22_val_loss_array', 'client_23_accuracy_array', 'client_23_f1_array', 'client_23_val_loss_array', 'client_25_accuracy_array', 'client_25_f1_array', 'client_25_val_loss_array', 'client_26_accuracy_array', 'client_26_f1_array', 'client_26_val_loss_array', 'client_27_accuracy_array', 'client_27_f1_array', 'client_27_val_loss_array', 'client_28_accuracy_array', 'client_28_f1_array', 'client_28_val_loss_array', 'client_29_accuracy_array', 'client_29_f1_array', 'client_29_val_loss_array', 'client_30_accuracy_array', 'client_30_f1_array', 'client_30_val_loss_array', 'client_31_accuracy_array', 'client_31_f1_array', 'client_31_val_loss_array', 'client_32_accuracy_array', 'client_32_f1_array', 'client_32_val_loss_array', 'client_33_accuracy_array', 'client_33_f1_array', 'client_33_val_loss_array', 'client_34_accuracy_array', 'client_34_f1_array', 'client_34_val_loss_array', 'client_35_accuracy_array', 'client_35_f1_array', 'client_35_val_loss_array', 'client_36_accuracy_array', 'client_36_f1_array', 'client_36_val_loss_array', 'client_37_accuracy_array', 'client_37_f1_array', 'client_37_val_loss_array', 'client_38_accuracy_array', 'client_38_f1_array', 'client_38_val_loss_array', 'client_39_accuracy_array', 'client_39_f1_array', 'client_39_val_loss_array', 'client_41_accuracy_array', 'client_41_f1_array', 'client_41_val_loss_array', 'client_42_accuracy_array', 'client_42_f1_array', 'client_42_val_loss_array', 'client_43_accuracy_array', 'client_43_f1_array', 'client_43_val_loss_array', 'client_44_accuracy_array', 'client_44_f1_array', 'client_44_val_loss_array', 'client_45_accuracy_array', 'client_45_f1_array', 'client_45_val_loss_array', 'client_46_accuracy_array', 'client_46_f1_array', 'client_46_val_loss_array', 'client_47_accuracy_array', 'client_47_f1_array', 'client_47_val_loss_array', 'client_48_accuracy_array', 'client_48_f1_array', 'client_48_val_loss_array', 'client_49_accuracy_array', 'client_49_f1_array', 'client_49_val_loss_array', 'client_51_accuracy_array', 'client_51_f1_array', 'client_51_val_loss_array', 'client_52_accuracy_array', 'client_52_f1_array', 'client_52_val_loss_array', 'client_53_accuracy_array', 'client_53_f1_array', 'client_53_val_loss_array', 'client_54_accuracy_array', 'client_54_f1_array', 'client_54_val_loss_array', 'client_55_accuracy_array', 'client_55_f1_array', 'client_55_val_loss_array', 'client_56_accuracy_array', 'client_56_f1_array', 'client_56_val_loss_array', 'client_57_accuracy_array', 'client_57_f1_array', 'client_57_val_loss_array', 'client_60_accuracy_array', 'client_60_f1_array', 'client_60_val_loss_array', 'client_61_accuracy_array', 'client_61_f1_array', 'client_61_val_loss_array', 'client_62_accuracy_array', 'client_62_f1_array', 'client_62_val_loss_array', 'cluster_f1score', 'cluster_precision', 'cluster_recall', 'cluster_test_accuracy', 'cluster_test_loss', 'cluster_train_accuracy', 'cluster_train_loss', 'data silo', 'exp_no', 'global_f1score', 'global_precision', 'global_recall', 'global_test_accuracy', 'global_test_loss', 'global_train_accuracy', 'global_train_loss', 'maximum_per_test_accuracy', 'maximum_per_test_accuracy_list', 'num users', 'per_f1score', 'per_precision', 'per_recall', 'per_test_accuracy', 'per_test_loss', 'per_train_accuracy', 'per_train_loss', 'std_dev']\n",
      "f1 : 52.94334877773016\n",
      "55.50\n",
      "0.10\n"
     ]
    }
   ],
   "source": [
    "# path = '/proj/sourasb-220503/FedMEM/results/ResNet50TL/Fedmem/data_silo_20/target_10/apriori/8.0/h5/'\n",
    "# dynamic\n",
    "# apriori\n",
    "\n",
    "path = '/proj/sourasb-220503/FedMEM/results/ResNet50TL/Fedmem/data_silo_100/target_3/dynamic/40.0/h5/'\n",
    "avg_result(path)"
   ]
  }
 ],
 "metadata": {
  "kernelspec": {
   "display_name": "personalized_fl",
   "language": "python",
   "name": "python3"
  },
  "language_info": {
   "codemirror_mode": {
    "name": "ipython",
    "version": 3
   },
   "file_extension": ".py",
   "mimetype": "text/x-python",
   "name": "python",
   "nbconvert_exporter": "python",
   "pygments_lexer": "ipython3",
   "version": "3.11.3"
  }
 },
 "nbformat": 4,
 "nbformat_minor": 2
}
