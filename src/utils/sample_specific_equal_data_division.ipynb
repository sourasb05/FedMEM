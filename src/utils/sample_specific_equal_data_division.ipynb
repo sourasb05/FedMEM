{
 "cells": [
  {
   "cell_type": "code",
   "execution_count": 5,
   "metadata": {},
   "outputs": [],
   "source": [
    "import pandas as pd\n"
   ]
  },
  {
   "cell_type": "code",
   "execution_count": 3,
   "metadata": {},
   "outputs": [],
   "source": [
    "csv_file = \"/proj/sourasb-220503/FedMEM/dataset/tensor_train_val_1.csv\""
   ]
  },
  {
   "cell_type": "code",
   "execution_count": 6,
   "metadata": {},
   "outputs": [
    {
     "data": {
      "text/plain": [
       "['/proj/sourasb-220503/FedMEM/dataset/equal_division/client_1.csv',\n",
       " '/proj/sourasb-220503/FedMEM/dataset/equal_division/client_2.csv',\n",
       " '/proj/sourasb-220503/FedMEM/dataset/equal_division/client_3.csv',\n",
       " '/proj/sourasb-220503/FedMEM/dataset/equal_division/client_4.csv',\n",
       " '/proj/sourasb-220503/FedMEM/dataset/equal_division/client_5.csv',\n",
       " '/proj/sourasb-220503/FedMEM/dataset/equal_division/client_6.csv',\n",
       " '/proj/sourasb-220503/FedMEM/dataset/equal_division/client_7.csv',\n",
       " '/proj/sourasb-220503/FedMEM/dataset/equal_division/client_8.csv',\n",
       " '/proj/sourasb-220503/FedMEM/dataset/equal_division/client_9.csv',\n",
       " '/proj/sourasb-220503/FedMEM/dataset/equal_division/client_10.csv']"
      ]
     },
     "execution_count": 6,
     "metadata": {},
     "output_type": "execute_result"
    }
   ],
   "source": [
    "# Read the CSV data into a DataFrame\n",
    "df_csv = pd.read_csv(csv_file)\n",
    "n_client = 10\n",
    "# Divide the DataFrame into 5 sequential parts and save to files\n",
    "num_rows = len(df_csv)\n",
    "division_size = num_rows // n_client  # Determine the size of each division, may need adjustment for exact division\n",
    "\n",
    "# Initialize the start index for the first file\n",
    "start_idx = 0\n",
    "\n",
    "# List to keep track of generated file paths\n",
    "generated_files = []\n",
    "\n",
    "for i in range(n_client):\n",
    "    # Calculate end index for slicing, ensure not to exceed the DataFrame's length\n",
    "    end_idx = min(start_idx + division_size, num_rows) if i < n_client else num_rows  # Adjust for the last file to include all remaining rows\n",
    "    \n",
    "    # Slice the DataFrame\n",
    "    sliced_df = df_csv.iloc[start_idx:end_idx]\n",
    "    \n",
    "    # Generate filename and save the sliced DataFrame to CSV\n",
    "    filename = f\"/proj/sourasb-220503/FedMEM/dataset/equal_division/client_{i+1}.csv\"\n",
    "    sliced_df.to_csv(filename, index=False)\n",
    "    \n",
    "    # Update the start index for the next file\n",
    "    start_idx = end_idx\n",
    "    \n",
    "    # Add filename to the list of generated files\n",
    "    generated_files.append(filename)\n",
    "\n",
    "generated_files"
   ]
  }
 ],
 "metadata": {
  "kernelspec": {
   "display_name": "personalized_fl",
   "language": "python",
   "name": "python3"
  },
  "language_info": {
   "codemirror_mode": {
    "name": "ipython",
    "version": 3
   },
   "file_extension": ".py",
   "mimetype": "text/x-python",
   "name": "python",
   "nbconvert_exporter": "python",
   "pygments_lexer": "ipython3",
   "version": "3.11.3"
  }
 },
 "nbformat": 4,
 "nbformat_minor": 2
}
